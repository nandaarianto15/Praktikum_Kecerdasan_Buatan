{
 "cells": [
  {
   "cell_type": "markdown",
   "id": "2ec872f8-42a6-4fd1-95c8-7ce20213a1b6",
   "metadata": {},
   "source": [
    "# Data Preprocessing"
   ]
  },
  {
   "cell_type": "code",
   "execution_count": 71,
   "id": "f1b7486f-fa47-4b16-9628-fe8f67591687",
   "metadata": {},
   "outputs": [
    {
     "data": {
      "text/html": [
       "<div>\n",
       "<style scoped>\n",
       "    .dataframe tbody tr th:only-of-type {\n",
       "        vertical-align: middle;\n",
       "    }\n",
       "\n",
       "    .dataframe tbody tr th {\n",
       "        vertical-align: top;\n",
       "    }\n",
       "\n",
       "    .dataframe thead th {\n",
       "        text-align: right;\n",
       "    }\n",
       "</style>\n",
       "<table border=\"1\" class=\"dataframe\">\n",
       "  <thead>\n",
       "    <tr style=\"text-align: right;\">\n",
       "      <th></th>\n",
       "      <th>Person ID</th>\n",
       "      <th>Gender</th>\n",
       "      <th>Age</th>\n",
       "      <th>Occupation</th>\n",
       "      <th>Sleep Duration</th>\n",
       "      <th>Quality of Sleep</th>\n",
       "      <th>Physical Activity Level</th>\n",
       "      <th>Stress Level</th>\n",
       "      <th>BMI Category</th>\n",
       "      <th>Blood Pressure</th>\n",
       "      <th>Heart Rate</th>\n",
       "      <th>Daily Steps</th>\n",
       "      <th>Sleep Disorder</th>\n",
       "    </tr>\n",
       "  </thead>\n",
       "  <tbody>\n",
       "    <tr>\n",
       "      <th>0</th>\n",
       "      <td>1</td>\n",
       "      <td>Male</td>\n",
       "      <td>27</td>\n",
       "      <td>Software Engineer</td>\n",
       "      <td>6.1</td>\n",
       "      <td>6</td>\n",
       "      <td>42</td>\n",
       "      <td>6</td>\n",
       "      <td>Overweight</td>\n",
       "      <td>126/83</td>\n",
       "      <td>77</td>\n",
       "      <td>4200</td>\n",
       "      <td>NaN</td>\n",
       "    </tr>\n",
       "    <tr>\n",
       "      <th>1</th>\n",
       "      <td>2</td>\n",
       "      <td>Male</td>\n",
       "      <td>28</td>\n",
       "      <td>Doctor</td>\n",
       "      <td>6.2</td>\n",
       "      <td>6</td>\n",
       "      <td>60</td>\n",
       "      <td>8</td>\n",
       "      <td>Normal</td>\n",
       "      <td>125/80</td>\n",
       "      <td>75</td>\n",
       "      <td>10000</td>\n",
       "      <td>NaN</td>\n",
       "    </tr>\n",
       "    <tr>\n",
       "      <th>2</th>\n",
       "      <td>3</td>\n",
       "      <td>Male</td>\n",
       "      <td>28</td>\n",
       "      <td>Doctor</td>\n",
       "      <td>6.2</td>\n",
       "      <td>6</td>\n",
       "      <td>60</td>\n",
       "      <td>8</td>\n",
       "      <td>Normal</td>\n",
       "      <td>125/80</td>\n",
       "      <td>75</td>\n",
       "      <td>10000</td>\n",
       "      <td>NaN</td>\n",
       "    </tr>\n",
       "    <tr>\n",
       "      <th>3</th>\n",
       "      <td>4</td>\n",
       "      <td>Male</td>\n",
       "      <td>28</td>\n",
       "      <td>Sales Representative</td>\n",
       "      <td>5.9</td>\n",
       "      <td>4</td>\n",
       "      <td>30</td>\n",
       "      <td>8</td>\n",
       "      <td>Obese</td>\n",
       "      <td>140/90</td>\n",
       "      <td>85</td>\n",
       "      <td>3000</td>\n",
       "      <td>Sleep Apnea</td>\n",
       "    </tr>\n",
       "    <tr>\n",
       "      <th>4</th>\n",
       "      <td>5</td>\n",
       "      <td>Male</td>\n",
       "      <td>28</td>\n",
       "      <td>Sales Representative</td>\n",
       "      <td>5.9</td>\n",
       "      <td>4</td>\n",
       "      <td>30</td>\n",
       "      <td>8</td>\n",
       "      <td>Obese</td>\n",
       "      <td>140/90</td>\n",
       "      <td>85</td>\n",
       "      <td>3000</td>\n",
       "      <td>Sleep Apnea</td>\n",
       "    </tr>\n",
       "  </tbody>\n",
       "</table>\n",
       "</div>"
      ],
      "text/plain": [
       "   Person ID Gender  Age            Occupation  Sleep Duration  \\\n",
       "0          1   Male   27     Software Engineer             6.1   \n",
       "1          2   Male   28                Doctor             6.2   \n",
       "2          3   Male   28                Doctor             6.2   \n",
       "3          4   Male   28  Sales Representative             5.9   \n",
       "4          5   Male   28  Sales Representative             5.9   \n",
       "\n",
       "   Quality of Sleep  Physical Activity Level  Stress Level BMI Category  \\\n",
       "0                 6                       42             6   Overweight   \n",
       "1                 6                       60             8       Normal   \n",
       "2                 6                       60             8       Normal   \n",
       "3                 4                       30             8        Obese   \n",
       "4                 4                       30             8        Obese   \n",
       "\n",
       "  Blood Pressure  Heart Rate  Daily Steps Sleep Disorder  \n",
       "0         126/83          77         4200            NaN  \n",
       "1         125/80          75        10000            NaN  \n",
       "2         125/80          75        10000            NaN  \n",
       "3         140/90          85         3000    Sleep Apnea  \n",
       "4         140/90          85         3000    Sleep Apnea  "
      ]
     },
     "execution_count": 71,
     "metadata": {},
     "output_type": "execute_result"
    }
   ],
   "source": [
    "import pandas as pd\n",
    "\n",
    "df = pd.read_csv(\"Sleep_health_and_lifestyle_dataset.csv\")\n",
    "df.head()"
   ]
  },
  {
   "cell_type": "markdown",
   "id": "f776d8de-ef7a-461c-a970-c11d28a373ec",
   "metadata": {},
   "source": [
    "## Cek Missing Value"
   ]
  },
  {
   "cell_type": "code",
   "execution_count": 72,
   "id": "5ebdff1e-85d0-4e16-b142-8cc0cc268ff1",
   "metadata": {},
   "outputs": [
    {
     "name": "stdout",
     "output_type": "stream",
     "text": [
      "Jumlah missing value:\n"
     ]
    },
    {
     "data": {
      "text/plain": [
       "Person ID                    0\n",
       "Gender                       0\n",
       "Age                          0\n",
       "Occupation                   0\n",
       "Sleep Duration               0\n",
       "Quality of Sleep             0\n",
       "Physical Activity Level      0\n",
       "Stress Level                 0\n",
       "BMI Category                 0\n",
       "Blood Pressure               0\n",
       "Heart Rate                   0\n",
       "Daily Steps                  0\n",
       "Sleep Disorder             219\n",
       "dtype: int64"
      ]
     },
     "execution_count": 72,
     "metadata": {},
     "output_type": "execute_result"
    }
   ],
   "source": [
    "print(\"Jumlah missing value:\")\n",
    "df.isnull().sum()"
   ]
  },
  {
   "cell_type": "markdown",
   "id": "3c953bf1-3b41-4331-9d37-b024bf571eca",
   "metadata": {},
   "source": [
    "Setelah di cek, ternyata tidak ada Missing Value"
   ]
  },
  {
   "cell_type": "markdown",
   "id": "b4533d30-4125-4a5e-80d9-ad959f74bcd0",
   "metadata": {},
   "source": [
    "## Cek Duplicate Value"
   ]
  },
  {
   "cell_type": "code",
   "execution_count": 73,
   "id": "91fcd61c-dbbf-4c43-b12e-dda1d9b32efd",
   "metadata": {},
   "outputs": [
    {
     "name": "stdout",
     "output_type": "stream",
     "text": [
      "Jumlah duplicate value:\n"
     ]
    },
    {
     "data": {
      "text/plain": [
       "0"
      ]
     },
     "execution_count": 73,
     "metadata": {},
     "output_type": "execute_result"
    }
   ],
   "source": [
    "print(\"Jumlah duplicate value:\")\n",
    "df.duplicated().sum()"
   ]
  },
  {
   "cell_type": "markdown",
   "id": "8c27d09e-d1d7-45f7-bca1-f836f766c0b5",
   "metadata": {},
   "source": [
    "Setelah di cek, ternyata tidak ada duplicate value"
   ]
  },
  {
   "cell_type": "markdown",
   "id": "e203d671-7224-4a0b-8679-23ad23c8603e",
   "metadata": {},
   "source": [
    "## Cek Outlier"
   ]
  },
  {
   "cell_type": "code",
   "execution_count": 74,
   "id": "a6614aa1-775d-400c-b608-f2e31c3a28eb",
   "metadata": {},
   "outputs": [
    {
     "data": {
      "image/png": "[encoded data removed]",
      "text/plain": [
       "<Figure size 500x300 with 1 Axes>"
      ]
     },
     "metadata": {},
     "output_type": "display_data"
    },
    {
     "data": {
      "image/png": "[encoded data removed]",
      "text/plain": [
       "<Figure size 500x300 with 1 Axes>"
      ]
     },
     "metadata": {},
     "output_type": "display_data"
    },
    {
     "data": {
      "image/png": "[encoded data removed]",
      "text/plain": [
       "<Figure size 500x300 with 1 Axes>"
      ]
     },
     "metadata": {},
     "output_type": "display_data"
    },
    {
     "data": {
      "image/png": "[encoded data removed]",
      "text/plain": [
       "<Figure size 500x300 with 1 Axes>"
      ]
     },
     "metadata": {},
     "output_type": "display_data"
    },
    {
     "data": {
      "image/png": "[encoded data removed]",
      "text/plain": [
       "<Figure size 500x300 with 1 Axes>"
      ]
     },
     "metadata": {},
     "output_type": "display_data"
    },
    {
     "data": {
      "image/png": "[encoded data removed]",
      "text/plain": [
       "<Figure size 500x300 with 1 Axes>"
      ]
     },
     "metadata": {},
     "output_type": "display_data"
    },
    {
     "data": {
      "image/png": "[encoded data removed]",
      "text/plain": [
       "<Figure size 500x300 with 1 Axes>"
      ]
     },
     "metadata": {},
     "output_type": "display_data"
    },
    {
     "data": {
      "image/png": "[encoded data removed]",
      "text/plain": [
       "<Figure size 500x300 with 1 Axes>"
      ]
     },
     "metadata": {},
     "output_type": "display_data"
    }
   ],
   "source": [
    "import matplotlib.pyplot as plt\n",
    "import seaborn as sns\n",
    "\n",
    "# Ambil kolom numerik\n",
    "num_cols = df.select_dtypes(include=['int64', 'float64']).columns\n",
    "\n",
    "for col in num_cols:\n",
    "    plt.figure(figsize=(5, 3))\n",
    "    sns.boxplot(data=df, x=col)\n",
    "    plt.title(f'Boxplot untuk {col}')\n",
    "    plt.show()"
   ]
  },
  {
   "cell_type": "markdown",
   "id": "0f04d255-d8af-4ae5-985a-1045658bd11f",
   "metadata": {},
   "source": [
    "#### Setelah di cek, ternyata ada Outlier pada kolom \"Heart Rate\".\n",
    "jadi kita akan menangani Outlier tersebut dengan metode IQR"
   ]
  },
  {
   "cell_type": "code",
   "execution_count": 75,
   "id": "3b862c36-e075-4be6-b237-1ffb5bf42fa6",
   "metadata": {},
   "outputs": [
    {
     "data": {
      "image/png": "[encoded data removed]",
      "text/plain": [
       "<Figure size 800x400 with 2 Axes>"
      ]
     },
     "metadata": {},
     "output_type": "display_data"
    }
   ],
   "source": [
    "# Sebelum handling outlier\n",
    "fig, axes = plt.subplots(1, 2, figsize=(8, 4))\n",
    "plt.tight_layout(pad=3.0)\n",
    "\n",
    "sns.boxplot(y=df['Heart Rate'], ax=axes[0])\n",
    "axes[0].set_title(\"Sebelum\")\n",
    "\n",
    "# Menangani outlier dengan metode IQR\n",
    "Q1 = df['Heart Rate'].quantile(0.25)\n",
    "Q3 = df['Heart Rate'].quantile(0.75)\n",
    "IQR = Q3 - Q1\n",
    "\n",
    "# Ambil data dalam batas normal (1.5 * IQR)\n",
    "df_no_outlier = df[(df['Heart Rate'] >= (Q1 - 1.5 * IQR)) & (df['Heart Rate'] <= (Q3 + 1.5 * IQR))]\n",
    "\n",
    "# Setelah handling outlier\n",
    "sns.boxplot(y=df_no_outlier['Heart Rate'], ax=axes[1])\n",
    "axes[1].set_title(\"Sesudah\")\n",
    "\n",
    "plt.show()"
   ]
  },
  {
   "cell_type": "markdown",
   "id": "a4ae1e66-859b-4c79-a146-0f1a0eef197d",
   "metadata": {},
   "source": [
    "## Standarisasi kolom numerik\n",
    "Agar semua kolom numerik berada dalam skala yang sebanding.\n",
    "Kolom \"Quality of Sleep\" tidak dinormalisasi/standarisasi karena itu target label."
   ]
  },
  {
   "cell_type": "code",
   "execution_count": 76,
   "id": "d835ff94-f3aa-4b84-aaa3-d015ab350df9",
   "metadata": {},
   "outputs": [
    {
     "data": {
      "text/html": [
       "<div>\n",
       "<style scoped>\n",
       "    .dataframe tbody tr th:only-of-type {\n",
       "        vertical-align: middle;\n",
       "    }\n",
       "\n",
       "    .dataframe tbody tr th {\n",
       "        vertical-align: top;\n",
       "    }\n",
       "\n",
       "    .dataframe thead th {\n",
       "        text-align: right;\n",
       "    }\n",
       "</style>\n",
       "<table border=\"1\" class=\"dataframe\">\n",
       "  <thead>\n",
       "    <tr style=\"text-align: right;\">\n",
       "      <th></th>\n",
       "      <th>Age</th>\n",
       "      <th>Sleep Duration</th>\n",
       "      <th>Physical Activity Level</th>\n",
       "      <th>Stress Level</th>\n",
       "      <th>Heart Rate</th>\n",
       "      <th>Daily Steps</th>\n",
       "    </tr>\n",
       "  </thead>\n",
       "  <tbody>\n",
       "    <tr>\n",
       "      <th>0</th>\n",
       "      <td>-1.753096</td>\n",
       "      <td>-1.298887</td>\n",
       "      <td>-0.825418</td>\n",
       "      <td>0.347021</td>\n",
       "      <td>1.654719</td>\n",
       "      <td>-1.619584</td>\n",
       "    </tr>\n",
       "    <tr>\n",
       "      <th>1</th>\n",
       "      <td>-1.637643</td>\n",
       "      <td>-1.173036</td>\n",
       "      <td>0.039844</td>\n",
       "      <td>1.475592</td>\n",
       "      <td>1.170474</td>\n",
       "      <td>1.970077</td>\n",
       "    </tr>\n",
       "    <tr>\n",
       "      <th>2</th>\n",
       "      <td>-1.637643</td>\n",
       "      <td>-1.173036</td>\n",
       "      <td>0.039844</td>\n",
       "      <td>1.475592</td>\n",
       "      <td>1.170474</td>\n",
       "      <td>1.970077</td>\n",
       "    </tr>\n",
       "    <tr>\n",
       "      <th>3</th>\n",
       "      <td>-1.637643</td>\n",
       "      <td>-1.550588</td>\n",
       "      <td>-1.402260</td>\n",
       "      <td>1.475592</td>\n",
       "      <td>3.591698</td>\n",
       "      <td>-2.362273</td>\n",
       "    </tr>\n",
       "    <tr>\n",
       "      <th>4</th>\n",
       "      <td>-1.637643</td>\n",
       "      <td>-1.550588</td>\n",
       "      <td>-1.402260</td>\n",
       "      <td>1.475592</td>\n",
       "      <td>3.591698</td>\n",
       "      <td>-2.362273</td>\n",
       "    </tr>\n",
       "  </tbody>\n",
       "</table>\n",
       "</div>"
      ],
      "text/plain": [
       "        Age  Sleep Duration  Physical Activity Level  Stress Level  \\\n",
       "0 -1.753096       -1.298887                -0.825418      0.347021   \n",
       "1 -1.637643       -1.173036                 0.039844      1.475592   \n",
       "2 -1.637643       -1.173036                 0.039844      1.475592   \n",
       "3 -1.637643       -1.550588                -1.402260      1.475592   \n",
       "4 -1.637643       -1.550588                -1.402260      1.475592   \n",
       "\n",
       "   Heart Rate  Daily Steps  \n",
       "0    1.654719    -1.619584  \n",
       "1    1.170474     1.970077  \n",
       "2    1.170474     1.970077  \n",
       "3    3.591698    -2.362273  \n",
       "4    3.591698    -2.362273  "
      ]
     },
     "execution_count": 76,
     "metadata": {},
     "output_type": "execute_result"
    }
   ],
   "source": [
    "from sklearn.preprocessing import StandardScaler\n",
    "\n",
    "# Kolom numerik yang akan distandarisasi\n",
    "num_cols = ['Age', 'Sleep Duration', 'Physical Activity Level', 'Stress Level', 'Heart Rate', 'Daily Steps']\n",
    "\n",
    "# Buat objek scaler\n",
    "scaler = StandardScaler()\n",
    "\n",
    "# Simpan versi normalisasi ke dataframe baru\n",
    "df[num_cols] = scaler.fit_transform(df[num_cols])\n",
    "\n",
    "# Cek hasil\n",
    "df[num_cols].head()"
   ]
  },
  {
   "cell_type": "markdown",
   "id": "c7354eb7-05f3-410e-acf2-0b95abca8169",
   "metadata": {},
   "source": [
    " Data diubah agar memiliki mean = 0 dan std = 1 sehingga setiap fitur memiliki bobot yang seimbang dalam model.  \n",
    " metode ini juga lebih tahan terhadap outlier ringan dibanding normalisasi."
   ]
  },
  {
   "cell_type": "markdown",
   "id": "7e734878-173f-4538-a7ad-e0384ab1abdb",
   "metadata": {},
   "source": [
    "## Encoding Kolom Kategorikal (Ordinal Encoding)"
   ]
  },
  {
   "cell_type": "code",
   "execution_count": 77,
   "id": "34881442-acee-4b52-9358-a7bd5e03e484",
   "metadata": {},
   "outputs": [
    {
     "data": {
      "text/html": [
       "<div>\n",
       "<style scoped>\n",
       "    .dataframe tbody tr th:only-of-type {\n",
       "        vertical-align: middle;\n",
       "    }\n",
       "\n",
       "    .dataframe tbody tr th {\n",
       "        vertical-align: top;\n",
       "    }\n",
       "\n",
       "    .dataframe thead th {\n",
       "        text-align: right;\n",
       "    }\n",
       "</style>\n",
       "<table border=\"1\" class=\"dataframe\">\n",
       "  <thead>\n",
       "    <tr style=\"text-align: right;\">\n",
       "      <th></th>\n",
       "      <th>Gender</th>\n",
       "      <th>Occupation</th>\n",
       "      <th>BMI Category</th>\n",
       "      <th>Sleep Disorder</th>\n",
       "    </tr>\n",
       "  </thead>\n",
       "  <tbody>\n",
       "    <tr>\n",
       "      <th>0</th>\n",
       "      <td>1.0</td>\n",
       "      <td>9.0</td>\n",
       "      <td>3.0</td>\n",
       "      <td>2.0</td>\n",
       "    </tr>\n",
       "    <tr>\n",
       "      <th>1</th>\n",
       "      <td>1.0</td>\n",
       "      <td>1.0</td>\n",
       "      <td>0.0</td>\n",
       "      <td>2.0</td>\n",
       "    </tr>\n",
       "    <tr>\n",
       "      <th>2</th>\n",
       "      <td>1.0</td>\n",
       "      <td>1.0</td>\n",
       "      <td>0.0</td>\n",
       "      <td>2.0</td>\n",
       "    </tr>\n",
       "    <tr>\n",
       "      <th>3</th>\n",
       "      <td>1.0</td>\n",
       "      <td>6.0</td>\n",
       "      <td>2.0</td>\n",
       "      <td>1.0</td>\n",
       "    </tr>\n",
       "    <tr>\n",
       "      <th>4</th>\n",
       "      <td>1.0</td>\n",
       "      <td>6.0</td>\n",
       "      <td>2.0</td>\n",
       "      <td>1.0</td>\n",
       "    </tr>\n",
       "  </tbody>\n",
       "</table>\n",
       "</div>"
      ],
      "text/plain": [
       "   Gender  Occupation  BMI Category  Sleep Disorder\n",
       "0     1.0         9.0           3.0             2.0\n",
       "1     1.0         1.0           0.0             2.0\n",
       "2     1.0         1.0           0.0             2.0\n",
       "3     1.0         6.0           2.0             1.0\n",
       "4     1.0         6.0           2.0             1.0"
      ]
     },
     "execution_count": 77,
     "metadata": {},
     "output_type": "execute_result"
    }
   ],
   "source": [
    "from sklearn.preprocessing import OrdinalEncoder\n",
    "\n",
    "df_encoded = df.copy()\n",
    "\n",
    "# Kolom kategorikal\n",
    "cat_cols = ['Gender', 'Occupation', 'BMI Category', 'Sleep Disorder']\n",
    "\n",
    "# Ganti NaN dengan kategori \"Unknown\"\n",
    "df_encoded[cat_cols] = df_encoded[cat_cols].fillna('Unknown')\n",
    "\n",
    "# Membuat objek OrdinalEncoder\n",
    "ordinal_encoder = OrdinalEncoder()\n",
    "\n",
    "# Melakukan encoding\n",
    "df_encoded[cat_cols] = ordinal_encoder.fit_transform(df_encoded[cat_cols])\n",
    "\n",
    "# Melihat hasil\n",
    "df_encoded[cat_cols].head()"
   ]
  },
  {
   "cell_type": "markdown",
   "id": "c8266b87-e543-46d8-9f53-246c9a04680e",
   "metadata": {},
   "source": [
    "Kolom kategorikal pada dataset diubah menjadi bentuk numerik menggunakan **Ordinal Encoding**.  \n",
    "Ini memberikan nilai numerik (0, 1, 2, ..) pada setiap kategori tanpa menambah kolom baru.\n",
    "\n",
    "Berikut adalah cara melihat hasil pemetaan kategori ke nilai numerik:"
   ]
  },
  {
   "cell_type": "code",
   "execution_count": 78,
   "id": "c223124c-9954-4dd5-9d96-46245a22cef2",
   "metadata": {},
   "outputs": [
    {
     "name": "stdout",
     "output_type": "stream",
     "text": [
      "\n",
      "Gender:\n",
      "  Female -> 0\n",
      "  Male -> 1\n",
      "\n",
      "Occupation:\n",
      "  Accountant -> 0\n",
      "  Doctor -> 1\n",
      "  Engineer -> 2\n",
      "  Lawyer -> 3\n",
      "  Manager -> 4\n",
      "  Nurse -> 5\n",
      "  Sales Representative -> 6\n",
      "  Salesperson -> 7\n",
      "  Scientist -> 8\n",
      "  Software Engineer -> 9\n",
      "  Teacher -> 10\n",
      "\n",
      "BMI Category:\n",
      "  Normal -> 0\n",
      "  Normal Weight -> 1\n",
      "  Obese -> 2\n",
      "  Overweight -> 3\n",
      "\n",
      "Sleep Disorder:\n",
      "  Insomnia -> 0\n",
      "  Sleep Apnea -> 1\n",
      "  Unknown -> 2\n"
     ]
    }
   ],
   "source": [
    "# tampilkan kategori dan urutan encoding-nya\n",
    "for col, categories in zip(cat_cols, ordinal_encoder.categories_):\n",
    "    print(f\"\\n{col}:\")\n",
    "    for i, cat in enumerate(categories):\n",
    "        print(f\"  {cat} -> {i}\")\n"
   ]
  },
  {
   "cell_type": "markdown",
   "id": "e853e46c-78f1-4126-be33-9e90f82987e7",
   "metadata": {},
   "source": [
    "## Feature Engineering"
   ]
  },
  {
   "cell_type": "markdown",
   "id": "24ec07bd-5e11-47dd-bcf4-da8c4a0f8f53",
   "metadata": {},
   "source": [
    "Tahap ini untuk membuat fitur baru yang dapat memberikan informasi tambahan bagi model prediksi.\n",
    "Fitur baru yang dibuat adalah **Sleep_Efficiency**, yang menggambarkan tingkat efisiensi tidur seseorang berdasarkan kombinasi antara durasi tidur, kualitas tidur, dan tingkat stres.\n",
    "Fitur ini dibuat menggunakan rumus:\n",
    "\n",
    "**Sleep_Efficiency = (Quality of Sleep / (Stress Level + 1)) * Sleep Duration**\n",
    "\n",
    "Rumus tersebut dibuat berdasarkan asumsi bahwa:\n",
    "- Semakin tinggi kualitas tidur, semakin efisien tidur seseorang.\n",
    "- Semakin tinggi tingkat stres, maka efisiensi tidur cenderung menurun.\n",
    "- Durasi tidur juga berperan penting dalam menentukan efisiensi keseluruhan.\n",
    "\n",
    "Berikut adalah implementasinya:"
   ]
  },
  {
   "cell_type": "code",
   "execution_count": 79,
   "id": "21fd27d3-0fb8-4fe5-abad-4e602be61760",
   "metadata": {},
   "outputs": [
    {
     "data": {
      "text/html": [
       "<div>\n",
       "<style scoped>\n",
       "    .dataframe tbody tr th:only-of-type {\n",
       "        vertical-align: middle;\n",
       "    }\n",
       "\n",
       "    .dataframe tbody tr th {\n",
       "        vertical-align: top;\n",
       "    }\n",
       "\n",
       "    .dataframe thead th {\n",
       "        text-align: right;\n",
       "    }\n",
       "</style>\n",
       "<table border=\"1\" class=\"dataframe\">\n",
       "  <thead>\n",
       "    <tr style=\"text-align: right;\">\n",
       "      <th></th>\n",
       "      <th>Sleep Duration</th>\n",
       "      <th>Quality of Sleep</th>\n",
       "      <th>Stress Level</th>\n",
       "      <th>Sleep_Efficiency</th>\n",
       "    </tr>\n",
       "  </thead>\n",
       "  <tbody>\n",
       "    <tr>\n",
       "      <th>0</th>\n",
       "      <td>-1.298887</td>\n",
       "      <td>6</td>\n",
       "      <td>0.347021</td>\n",
       "      <td>-5.785600</td>\n",
       "    </tr>\n",
       "    <tr>\n",
       "      <th>1</th>\n",
       "      <td>-1.173036</td>\n",
       "      <td>6</td>\n",
       "      <td>1.475592</td>\n",
       "      <td>-2.843045</td>\n",
       "    </tr>\n",
       "    <tr>\n",
       "      <th>2</th>\n",
       "      <td>-1.173036</td>\n",
       "      <td>6</td>\n",
       "      <td>1.475592</td>\n",
       "      <td>-2.843045</td>\n",
       "    </tr>\n",
       "    <tr>\n",
       "      <th>3</th>\n",
       "      <td>-1.550588</td>\n",
       "      <td>4</td>\n",
       "      <td>1.475592</td>\n",
       "      <td>-2.505403</td>\n",
       "    </tr>\n",
       "    <tr>\n",
       "      <th>4</th>\n",
       "      <td>-1.550588</td>\n",
       "      <td>4</td>\n",
       "      <td>1.475592</td>\n",
       "      <td>-2.505403</td>\n",
       "    </tr>\n",
       "  </tbody>\n",
       "</table>\n",
       "</div>"
      ],
      "text/plain": [
       "   Sleep Duration  Quality of Sleep  Stress Level  Sleep_Efficiency\n",
       "0       -1.298887                 6      0.347021         -5.785600\n",
       "1       -1.173036                 6      1.475592         -2.843045\n",
       "2       -1.173036                 6      1.475592         -2.843045\n",
       "3       -1.550588                 4      1.475592         -2.505403\n",
       "4       -1.550588                 4      1.475592         -2.505403"
      ]
     },
     "execution_count": 79,
     "metadata": {},
     "output_type": "execute_result"
    }
   ],
   "source": [
    "df_encoded['Sleep_Efficiency'] = (\n",
    "    df_encoded['Quality of Sleep'] / (df_encoded['Stress Level'] + 1)\n",
    ") * df_encoded['Sleep Duration']\n",
    "\n",
    "df_encoded[['Sleep Duration', 'Quality of Sleep', 'Stress Level', 'Sleep_Efficiency']].head()\n"
   ]
  },
  {
   "cell_type": "markdown",
   "id": "2ea47e45-32a4-4d85-b623-9f561fcb5f63",
   "metadata": {},
   "source": [
    "Bisa dilihat nilai **Sleep_Efficiency** bernilai negatif, tapi tenang itu terjadi karena data numerik sebelumnya telah distandarisasi menggunakan *StandardScaler*.  \n",
    "Dengan demikian, nilai negatif bukan berarti “buruk”, melainkan menunjukkan posisi relatif terhadap rata-rata (mean = 0).  \n",
    "Fitur ini nantinya dapat membantu model mengenali hubungan antara kualitas tidur, stres, dan durasi tidur dalam menentukan tingkat kualitas tidur seseorang secara keseluruhan."
   ]
  },
  {
   "cell_type": "markdown",
   "id": "f19d57ba-f66f-4384-9672-8113bdeb1c01",
   "metadata": {},
   "source": [
    "## Splitting Data ke dalam Data Training & Data Testing"
   ]
  },
  {
   "cell_type": "code",
   "execution_count": 80,
   "id": "2bda7e61-aaba-478d-abf5-20d7581ab713",
   "metadata": {},
   "outputs": [
    {
     "name": "stdout",
     "output_type": "stream",
     "text": [
      "Jumlah data training : 299\n",
      "Jumlah data testing  : 75\n"
     ]
    }
   ],
   "source": [
    "from sklearn.model_selection import train_test_split\n",
    "\n",
    "# Menentukan fitur (X) dan target (y)\n",
    "X = df_encoded.drop(columns=['Quality of Sleep'])  # semua kolom kecuali target\n",
    "y = df_encoded['Quality of Sleep']                 # kolom target\n",
    "\n",
    "# Membagi dataset menjadi data training dan testing (80:20)\n",
    "X_train, X_test, y_train, y_test = train_test_split(\n",
    "    X, y, test_size=0.2, random_state=42\n",
    ")\n",
    "\n",
    "# Menampilkan ukuran data hasil pembagian\n",
    "print(\"Jumlah data training :\", X_train.shape[0])\n",
    "print(\"Jumlah data testing  :\", X_test.shape[0])\n"
   ]
  },
  {
   "cell_type": "markdown",
   "id": "be252875-4173-491e-a62b-70878d99aeb4",
   "metadata": {},
   "source": [
    "Pada tahap ini, dataset dibagi menjadi dua bagian, yaitu:\n",
    "\n",
    "- **Data training (80%)** → digunakan untuk melatih model machine learning.  \n",
    "- **Data testing (20%)** → digunakan untuk menguji performa model terhadap data baru yang belum pernah dilihat."
   ]
  },
  {
   "cell_type": "code",
   "execution_count": null,
   "id": "7d0295d2-ee7a-4dd2-bb4b-027b321cff43",
   "metadata": {},
   "outputs": [],
   "source": []
  }
 ],
 "metadata": {
  "kernelspec": {
   "display_name": "Python 3 (ipykernel)",
   "language": "python",
   "name": "python3"
  },
  "language_info": {
   "codemirror_mode": {
    "name": "ipython",
    "version": 3
   },
   "file_extension": ".py",
   "mimetype": "text/x-python",
   "name": "python",
   "nbconvert_exporter": "python",
   "pygments_lexer": "ipython3",
   "version": "3.11.4"
  }
 },
 "nbformat": 4,
 "nbformat_minor": 5
}
